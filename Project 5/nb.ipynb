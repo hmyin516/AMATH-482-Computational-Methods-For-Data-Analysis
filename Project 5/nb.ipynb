{
 "cells": [
  {
   "cell_type": "code",
   "execution_count": 1,
   "metadata": {},
   "outputs": [],
   "source": [
    "import numpy as np\n",
    "import tensorflow as tf\n",
    "import matplotlib.pyplot as plt\n",
    "import pandas as pd\n",
    "from sklearn.metrics import confusion_matrix"
   ]
  },
  {
   "cell_type": "code",
   "execution_count": 2,
   "metadata": {},
   "outputs": [],
   "source": [
    "fashion_mnist = tf.keras.datasets.fashion_mnist\n",
    "(X_train_full, y_train_full), (X_test, y_test) = fashion_mnist.load_data()"
   ]
  },
  {
   "cell_type": "code",
   "execution_count": 3,
   "metadata": {},
   "outputs": [
    {
     "data": {
      "image/png": "[encoded data removed]",
      "text/plain": [
       "<Figure size 432x288 with 10 Axes>"
      ]
     },
     "metadata": {
      "needs_background": "light"
     },
     "output_type": "display_data"
    }
   ],
   "source": [
    "plt.figure()\n",
    "for k in range(10):\n",
    "    plt.subplot(3,4,k+1)\n",
    "    plt.imshow(X_train_full[k], cmap=\"gray\")\n",
    "    plt.axis('off')\n",
    "plt.show()"
   ]
  },
  {
   "cell_type": "code",
   "execution_count": 4,
   "metadata": {},
   "outputs": [],
   "source": [
    "X_valid = X_train_full[:5000] / 255.0\n",
    "X_train = X_train_full[5000:] / 255.0\n",
    "X_test = X_test / 255.0\n",
    "\n",
    "y_valid = y_train_full[:5000]\n",
    "y_train = y_train_full[5000:]"
   ]
  },
  {
   "cell_type": "code",
   "execution_count": 5,
   "metadata": {},
   "outputs": [],
   "source": [
    "from functools import partial\n",
    "\n",
    "my_dense_layer = partial(tf.keras.layers.Dense, activation=\"relu\", kernel_regularizer=tf.keras.regularizers.l2(0.0001))\n",
    "\n",
    "model = tf.keras.models.Sequential([\n",
    "    tf.keras.layers.Flatten(input_shape=[28, 28]),\n",
    "    \n",
    "    my_dense_layer(128),\n",
    "    #my_dense_layer(64),\n",
    "    my_dense_layer(32),\n",
    "    #my_dense_layer(128),\n",
    "   \n",
    "    #my_dense_layer(400),\n",
    "   # my_dense_layer(100),\n",
    "   # my_dense_layer(100),\n",
    "\n",
    "    \n",
    "    #my_dense_layer(600),\n",
    "    #my_dense_layer(400),\n",
    "    #my_dense_layer(200),\n",
    "    my_dense_layer(10, activation=\"softmax\")\n",
    "])"
   ]
  },
  {
   "cell_type": "code",
   "execution_count": 6,
   "metadata": {},
   "outputs": [],
   "source": [
    "model.compile(loss=\"sparse_categorical_crossentropy\",\n",
    "             optimizer=tf.keras.optimizers.Adam(learning_rate=0.00001),\n",
    "             metrics=[\"accuracy\"])"
   ]
  },
  {
   "cell_type": "markdown",
   "metadata": {},
   "source": [
    "validation below training -> not overfitting. validation go down whole time, train further. "
   ]
  },
  {
   "cell_type": "code",
   "execution_count": 7,
   "metadata": {},
   "outputs": [
    {
     "name": "stdout",
     "output_type": "stream",
     "text": [
      "Train on 55000 samples, validate on 5000 samples\n",
      "Epoch 1/40\n",
      "55000/55000 [==============================] - 4s 64us/sample - loss: 1.5852 - accuracy: 0.5262 - val_loss: 1.0811 - val_accuracy: 0.6854\n",
      "Epoch 2/40\n",
      "55000/55000 [==============================] - 3s 53us/sample - loss: 0.9273 - accuracy: 0.7161 - val_loss: 0.8066 - val_accuracy: 0.7542\n",
      "Epoch 3/40\n",
      "55000/55000 [==============================] - 3s 58us/sample - loss: 0.7622 - accuracy: 0.7628 - val_loss: 0.7076 - val_accuracy: 0.7862\n",
      "Epoch 4/40\n",
      "55000/55000 [==============================] - 3s 53us/sample - loss: 0.6848 - accuracy: 0.7910 - val_loss: 0.6518 - val_accuracy: 0.8030\n",
      "Epoch 5/40\n",
      "55000/55000 [==============================] - 3s 52us/sample - loss: 0.6363 - accuracy: 0.8058 - val_loss: 0.6128 - val_accuracy: 0.8148\n",
      "Epoch 6/40\n",
      "55000/55000 [==============================] - 3s 50us/sample - loss: 0.6022 - accuracy: 0.8157 - val_loss: 0.5826 - val_accuracy: 0.8240\n",
      "Epoch 7/40\n",
      "55000/55000 [==============================] - 3s 50us/sample - loss: 0.5767 - accuracy: 0.8220 - val_loss: 0.5609 - val_accuracy: 0.8290\n",
      "Epoch 8/40\n",
      "55000/55000 [==============================] - 3s 55us/sample - loss: 0.5568 - accuracy: 0.8278 - val_loss: 0.5436 - val_accuracy: 0.8336\n",
      "Epoch 9/40\n",
      "55000/55000 [==============================] - 3s 46us/sample - loss: 0.5407 - accuracy: 0.8304 - val_loss: 0.5288 - val_accuracy: 0.8370\n",
      "Epoch 10/40\n",
      "55000/55000 [==============================] - 3s 49us/sample - loss: 0.5273 - accuracy: 0.8341 - val_loss: 0.5180 - val_accuracy: 0.8376\n",
      "Epoch 11/40\n",
      "55000/55000 [==============================] - 3s 54us/sample - loss: 0.5157 - accuracy: 0.8374 - val_loss: 0.5084 - val_accuracy: 0.8432\n",
      "Epoch 12/40\n",
      "55000/55000 [==============================] - 3s 55us/sample - loss: 0.5058 - accuracy: 0.8405 - val_loss: 0.5010 - val_accuracy: 0.8462\n",
      "Epoch 13/40\n",
      "55000/55000 [==============================] - 3s 52us/sample - loss: 0.4970 - accuracy: 0.8422 - val_loss: 0.4935 - val_accuracy: 0.8444\n",
      "Epoch 14/40\n",
      "55000/55000 [==============================] - 3s 51us/sample - loss: 0.4891 - accuracy: 0.8448 - val_loss: 0.4849 - val_accuracy: 0.8484\n",
      "Epoch 15/40\n",
      "55000/55000 [==============================] - 3s 50us/sample - loss: 0.4821 - accuracy: 0.8467 - val_loss: 0.4780 - val_accuracy: 0.8528\n",
      "Epoch 16/40\n",
      "55000/55000 [==============================] - 3s 54us/sample - loss: 0.4755 - accuracy: 0.8488 - val_loss: 0.4733 - val_accuracy: 0.8530\n",
      "Epoch 17/40\n",
      "55000/55000 [==============================] - 3s 48us/sample - loss: 0.4698 - accuracy: 0.8500 - val_loss: 0.4701 - val_accuracy: 0.8530\n",
      "Epoch 18/40\n",
      "55000/55000 [==============================] - 3s 50us/sample - loss: 0.4647 - accuracy: 0.8515 - val_loss: 0.4644 - val_accuracy: 0.8548\n",
      "Epoch 19/40\n",
      "55000/55000 [==============================] - 3s 51us/sample - loss: 0.4595 - accuracy: 0.8531 - val_loss: 0.4621 - val_accuracy: 0.8542\n",
      "Epoch 20/40\n",
      "55000/55000 [==============================] - 3s 56us/sample - loss: 0.4550 - accuracy: 0.8541 - val_loss: 0.4545 - val_accuracy: 0.8600\n",
      "Epoch 21/40\n",
      "55000/55000 [==============================] - 3s 55us/sample - loss: 0.4505 - accuracy: 0.8557 - val_loss: 0.4522 - val_accuracy: 0.8592\n",
      "Epoch 22/40\n",
      "55000/55000 [==============================] - 3s 49us/sample - loss: 0.4465 - accuracy: 0.8572 - val_loss: 0.4481 - val_accuracy: 0.8600\n",
      "Epoch 23/40\n",
      "55000/55000 [==============================] - 3s 50us/sample - loss: 0.4427 - accuracy: 0.8583 - val_loss: 0.4465 - val_accuracy: 0.8586\n",
      "Epoch 24/40\n",
      "55000/55000 [==============================] - 3s 55us/sample - loss: 0.4393 - accuracy: 0.8605 - val_loss: 0.4414 - val_accuracy: 0.8612\n",
      "Epoch 25/40\n",
      "55000/55000 [==============================] - 3s 57us/sample - loss: 0.4361 - accuracy: 0.8610 - val_loss: 0.4389 - val_accuracy: 0.8618\n",
      "Epoch 26/40\n",
      "55000/55000 [==============================] - 3s 48us/sample - loss: 0.4328 - accuracy: 0.8617 - val_loss: 0.4373 - val_accuracy: 0.8624\n",
      "Epoch 27/40\n",
      "55000/55000 [==============================] - 3s 52us/sample - loss: 0.4298 - accuracy: 0.8631 - val_loss: 0.4337 - val_accuracy: 0.8636\n",
      "Epoch 28/40\n",
      "55000/55000 [==============================] - 3s 52us/sample - loss: 0.4269 - accuracy: 0.8640 - val_loss: 0.4343 - val_accuracy: 0.8632\n",
      "Epoch 29/40\n",
      "55000/55000 [==============================] - 3s 53us/sample - loss: 0.4243 - accuracy: 0.8644 - val_loss: 0.4300 - val_accuracy: 0.8636\n",
      "Epoch 30/40\n",
      "55000/55000 [==============================] - 3s 50us/sample - loss: 0.4215 - accuracy: 0.8655 - val_loss: 0.4289 - val_accuracy: 0.8638\n",
      "Epoch 31/40\n",
      "55000/55000 [==============================] - 3s 51us/sample - loss: 0.4191 - accuracy: 0.8666 - val_loss: 0.4260 - val_accuracy: 0.8648\n",
      "Epoch 32/40\n",
      "55000/55000 [==============================] - 3s 52us/sample - loss: 0.4167 - accuracy: 0.8675 - val_loss: 0.4249 - val_accuracy: 0.8664\n",
      "Epoch 33/40\n",
      "55000/55000 [==============================] - 3s 51us/sample - loss: 0.4144 - accuracy: 0.8678 - val_loss: 0.4229 - val_accuracy: 0.8648\n",
      "Epoch 34/40\n",
      "55000/55000 [==============================] - 3s 52us/sample - loss: 0.4120 - accuracy: 0.8689 - val_loss: 0.4199 - val_accuracy: 0.8668\n",
      "Epoch 35/40\n",
      "55000/55000 [==============================] - 3s 54us/sample - loss: 0.4100 - accuracy: 0.8697 - val_loss: 0.4190 - val_accuracy: 0.8678\n",
      "Epoch 36/40\n",
      "55000/55000 [==============================] - 3s 54us/sample - loss: 0.4080 - accuracy: 0.8702 - val_loss: 0.4172 - val_accuracy: 0.8668\n",
      "Epoch 37/40\n",
      "55000/55000 [==============================] - 3s 53us/sample - loss: 0.4060 - accuracy: 0.8707 - val_loss: 0.4167 - val_accuracy: 0.8676\n",
      "Epoch 38/40\n",
      "55000/55000 [==============================] - 3s 51us/sample - loss: 0.4040 - accuracy: 0.8719 - val_loss: 0.4134 - val_accuracy: 0.8690\n",
      "Epoch 39/40\n",
      "55000/55000 [==============================] - 3s 51us/sample - loss: 0.4021 - accuracy: 0.8718 - val_loss: 0.4137 - val_accuracy: 0.8684\n",
      "Epoch 40/40\n",
      "55000/55000 [==============================] - 3s 55us/sample - loss: 0.4004 - accuracy: 0.8727 - val_loss: 0.4105 - val_accuracy: 0.8696\n"
     ]
    }
   ],
   "source": [
    "history = model.fit(X_train, y_train, epochs=40, validation_data=(X_valid,y_valid))\n"
   ]
  },
  {
   "cell_type": "code",
   "execution_count": 8,
   "metadata": {},
   "outputs": [
    {
     "data": {
      "image/png": "[encoded data removed]",
      "text/plain": [
       "<Figure size 576x360 with 1 Axes>"
      ]
     },
     "metadata": {
      "needs_background": "light"
     },
     "output_type": "display_data"
    }
   ],
   "source": [
    "pd.DataFrame(history.history).plot(figsize=(8,5))\n",
    "plt.grid(True)\n",
    "plt.gca().set_ylim(0,1)\n",
    "plt.ylabel(\"Percentage\")\n",
    "plt.xlabel(\"Epoch\")\n",
    "plt.show()"
   ]
  },
  {
   "cell_type": "code",
   "execution_count": 9,
   "metadata": {},
   "outputs": [
    {
     "name": "stdout",
     "output_type": "stream",
     "text": [
      "10000/10000 [==============================] - 0s 27us/sample - loss: 0.4424 - accuracy: 0.8552\n"
     ]
    },
    {
     "data": {
      "text/plain": [
       "[0.44243037481307984, 0.8552]"
      ]
     },
     "execution_count": 9,
     "metadata": {},
     "output_type": "execute_result"
    }
   ],
   "source": [
    "model.evaluate(X_test,y_test)"
   ]
  },
  {
   "cell_type": "code",
   "execution_count": 10,
   "metadata": {},
   "outputs": [
    {
     "name": "stdout",
     "output_type": "stream",
     "text": [
      "[[4663   27   76  215   14    7  492    0   49    0]\n",
      " [  14 5270   25  111    8    1   13    0    2    0]\n",
      " [  56   13 4400   47  582    0  372    0   26    0]\n",
      " [ 172   62   53 4863  208    0  122    0   18    1]\n",
      " [  11    4  514  150 4414    0  399    0   19    1]\n",
      " [   4    0    0    3    0 5207    1  197   18   77]\n",
      " [ 743   15  560  142  415    0 3574    1   57    0]\n",
      " [   0    0    0    0    0  149    0 5146    9  184]\n",
      " [  28    3   30   30   20   16   69   21 5292    1]\n",
      " [   2    1    1    1    0   54    1  192    2 5240]]\n"
     ]
    }
   ],
   "source": [
    "y_pred = model.predict_classes(X_train)\n",
    "conf_train = confusion_matrix(y_train, y_pred)\n",
    "print(conf_train)"
   ]
  },
  {
   "cell_type": "code",
   "execution_count": 11,
   "metadata": {},
   "outputs": [
    {
     "name": "stdout",
     "output_type": "stream",
     "text": [
      "[[811   3  12  46   5   1 109   0  13   0]\n",
      " [  4 957   6  24   5   0   3   0   1   0]\n",
      " [ 17   3 774  10 124   1  68   0   3   0]\n",
      " [ 30  13  12 867  35   1  39   0   3   0]\n",
      " [  0   1 118  35 767   0  72   0   7   0]\n",
      " [  0   0   0   1   0 932   0  45   2  20]\n",
      " [139   2 117  38  85   0 603   0  16   0]\n",
      " [  0   0   0   0   0  27   0 936   0  37]\n",
      " [  4   1   6   7   3   3  15   6 955   0]\n",
      " [  0   0   0   0   0   7   1  42   0 950]]\n"
     ]
    }
   ],
   "source": [
    "y_pred = model.predict_classes(X_test)\n",
    "conf_test = confusion_matrix(y_test, y_pred)\n",
    "print(conf_test)"
   ]
  },
  {
   "cell_type": "markdown",
   "metadata": {},
   "source": [
    "CNN"
   ]
  },
  {
   "cell_type": "code",
   "execution_count": 12,
   "metadata": {},
   "outputs": [],
   "source": [
    "fashion_mnist = tf.keras.datasets.fashion_mnist\n",
    "(X_train_full, y_train_full), (X_test, y_test) = fashion_mnist.load_data()\n",
    "X_valid = X_train_full[:5000] / 255.0\n",
    "X_train = X_train_full[5000:] / 255.0\n",
    "X_test = X_test / 255.0\n",
    "\n",
    "y_valid = y_train_full[:5000]\n",
    "y_train = y_train_full[5000:]"
   ]
  },
  {
   "cell_type": "code",
   "execution_count": 29,
   "metadata": {},
   "outputs": [
    {
     "data": {
      "image/png": "[encoded data removed]",
      "text/plain": [
       "<Figure size 432x288 with 10 Axes>"
      ]
     },
     "metadata": {
      "needs_background": "light"
     },
     "output_type": "display_data"
    }
   ],
   "source": [
    "plt.figure()\n",
    "for k in range(10):\n",
    "    plt.subplot(3,4,k+1)\n",
    "    plt.imshow(X_train_full[k], cmap=\"gray\")\n",
    "    plt.axis('off')\n",
    "    plt.title(y_train_full[k])\n",
    "plt.show()"
   ]
  },
  {
   "cell_type": "code",
   "execution_count": 13,
   "metadata": {},
   "outputs": [],
   "source": [
    "X_train = X_train[..., np.newaxis]\n",
    "X_valid = X_valid[..., np.newaxis]\n",
    "X_test = X_test[..., np.newaxis]"
   ]
  },
  {
   "cell_type": "code",
   "execution_count": 14,
   "metadata": {},
   "outputs": [],
   "source": [
    "my_dense_layer = partial(tf.keras.layers.Dense, activation=\"relu\", kernel_regularizer=tf.keras.regularizers.l2(0.0001))\n",
    "my_conv_layer = partial(tf.keras.layers.Conv2D, activation=\"relu\", padding=\"valid\")\n",
    "\n",
    "model = tf.keras.models.Sequential([\n",
    "    my_conv_layer(6,5,padding=\"same\",input_shape=[28,28,1]),\n",
    "    tf.keras.layers.AveragePooling2D(2),\n",
    "   # my_conv_layer(8,5),\n",
    "    #tf.keras.layers.AveragePooling2D(2),\n",
    "    my_conv_layer(32,3),\n",
    "    my_conv_layer(64,3),\n",
    "    my_conv_layer(128,3),\n",
    "    my_conv_layer(256,3),\n",
    "    my_conv_layer(512,3),\n",
    "    tf.keras.layers.Flatten(),\n",
    "    my_dense_layer(256),\n",
    "    #my_dense_layer(32),\n",
    "    #my_dense_layer(8),\n",
    "    my_dense_layer(10, activation=\"softmax\")\n",
    "])"
   ]
  },
  {
   "cell_type": "code",
   "execution_count": 15,
   "metadata": {},
   "outputs": [],
   "source": [
    "model.compile(loss=\"sparse_categorical_crossentropy\",\n",
    "             optimizer=tf.keras.optimizers.Adam(learning_rate=0.0001),\n",
    "             metrics=[\"accuracy\"])"
   ]
  },
  {
   "cell_type": "code",
   "execution_count": 16,
   "metadata": {},
   "outputs": [
    {
     "name": "stdout",
     "output_type": "stream",
     "text": [
      "Train on 55000 samples, validate on 5000 samples\n",
      "Epoch 1/10\n",
      "55000/55000 [==============================] - 220s 4ms/sample - loss: 0.6851 - accuracy: 0.7577 - val_loss: 0.4855 - val_accuracy: 0.8288\n",
      "Epoch 2/10\n",
      "55000/55000 [==============================] - 219s 4ms/sample - loss: 0.4555 - accuracy: 0.8415 - val_loss: 0.3987 - val_accuracy: 0.8640\n",
      "Epoch 3/10\n",
      "55000/55000 [==============================] - 215s 4ms/sample - loss: 0.3921 - accuracy: 0.8656 - val_loss: 0.3671 - val_accuracy: 0.8796\n",
      "Epoch 4/10\n",
      "55000/55000 [==============================] - 219s 4ms/sample - loss: 0.3525 - accuracy: 0.8791 - val_loss: 0.3421 - val_accuracy: 0.8806\n",
      "Epoch 5/10\n",
      "55000/55000 [==============================] - 218s 4ms/sample - loss: 0.3230 - accuracy: 0.8891 - val_loss: 0.3436 - val_accuracy: 0.8788\n",
      "Epoch 6/10\n",
      "55000/55000 [==============================] - 219s 4ms/sample - loss: 0.3015 - accuracy: 0.8984 - val_loss: 0.2970 - val_accuracy: 0.8998\n",
      "Epoch 7/10\n",
      "55000/55000 [==============================] - 216s 4ms/sample - loss: 0.2826 - accuracy: 0.9047 - val_loss: 0.2820 - val_accuracy: 0.9002\n",
      "Epoch 8/10\n",
      "55000/55000 [==============================] - 218s 4ms/sample - loss: 0.2638 - accuracy: 0.9117 - val_loss: 0.3067 - val_accuracy: 0.8932\n",
      "Epoch 9/10\n",
      "55000/55000 [==============================] - 218s 4ms/sample - loss: 0.2473 - accuracy: 0.9185 - val_loss: 0.2749 - val_accuracy: 0.9100\n",
      "Epoch 10/10\n",
      "55000/55000 [==============================] - 220s 4ms/sample - loss: 0.2314 - accuracy: 0.9228 - val_loss: 0.2761 - val_accuracy: 0.9070\n"
     ]
    }
   ],
   "source": [
    "history = model.fit(X_train, y_train, epochs=10, validation_data=(X_valid,y_valid))"
   ]
  },
  {
   "cell_type": "code",
   "execution_count": 17,
   "metadata": {},
   "outputs": [
    {
     "data": {
      "image/png": "[encoded data removed]",
      "text/plain": [
       "<Figure size 576x360 with 1 Axes>"
      ]
     },
     "metadata": {
      "needs_background": "light"
     },
     "output_type": "display_data"
    }
   ],
   "source": [
    "pd.DataFrame(history.history).plot(figsize=(8,5))\n",
    "plt.grid(True)\n",
    "plt.gca().set_ylim(0,1)\n",
    "plt.ylabel(\"Percentage\")\n",
    "plt.xlabel(\"Epoch\")\n",
    "plt.show()"
   ]
  },
  {
   "cell_type": "code",
   "execution_count": 18,
   "metadata": {},
   "outputs": [
    {
     "name": "stdout",
     "output_type": "stream",
     "text": [
      "[[5027    0   42   58   12    2  391    0   11    0]\n",
      " [   3 5343    6   75    4    0   11    0    2    0]\n",
      " [  54    0 4789   22  378    0  243    0   10    0]\n",
      " [ 123    0   29 5017  201    0  128    0    1    0]\n",
      " [  12    2  166   98 5024    0  206    0    4    0]\n",
      " [   0    0    0    0    0 5433    0   56    0   18]\n",
      " [ 475    1  253   58  294    1 4412    0   13    0]\n",
      " [   0    0    0    0    0   39    0 5314    0  135]\n",
      " [   9    0   11    3   14   11   12    0 5450    0]\n",
      " [   0    0    0    0    0    8    0  105    1 5380]]\n"
     ]
    }
   ],
   "source": [
    "y_pred = model.predict_classes(X_train)\n",
    "conf_train = confusion_matrix(y_train, y_pred)\n",
    "print(conf_train)"
   ]
  },
  {
   "cell_type": "code",
   "execution_count": 19,
   "metadata": {},
   "outputs": [
    {
     "name": "stdout",
     "output_type": "stream",
     "text": [
      "10000/10000 [==============================] - 6s 583us/sample - loss: 0.3052 - accuracy: 0.8991\n"
     ]
    },
    {
     "data": {
      "text/plain": [
       "[0.3051826845049858, 0.8991]"
      ]
     },
     "execution_count": 19,
     "metadata": {},
     "output_type": "execute_result"
    }
   ],
   "source": [
    "model.evaluate(X_test,y_test)"
   ]
  },
  {
   "cell_type": "code",
   "execution_count": 20,
   "metadata": {},
   "outputs": [
    {
     "name": "stdout",
     "output_type": "stream",
     "text": [
      "[[848   0  12  15   4   1 111   0   9   0]\n",
      " [  0 969   2  22   1   0   5   0   1   0]\n",
      " [ 14   0 820   7  88   0  68   0   3   0]\n",
      " [ 26   2  12 878  42   0  36   0   4   0]\n",
      " [  1   0  48  21 876   0  54   0   0   0]\n",
      " [  0   0   0   0   0 977   0  12   0  11]\n",
      " [129   0  55  19  83   0 706   0   8   0]\n",
      " [  0   0   0   0   0  11   0 965   0  24]\n",
      " [  0   0   4   2   4   7   2   2 978   1]\n",
      " [  1   0   0   0   0   3   0  22   0 974]]\n"
     ]
    }
   ],
   "source": [
    "y_pred = model.predict_classes(X_test)\n",
    "conf_test = confusion_matrix(y_test, y_pred)\n",
    "print(conf_test)"
   ]
  },
  {
   "cell_type": "code",
   "execution_count": null,
   "metadata": {},
   "outputs": [],
   "source": []
  }
 ],
 "metadata": {
  "kernelspec": {
   "display_name": "Python 3",
   "language": "python",
   "name": "python3"
  },
  "language_info": {
   "codemirror_mode": {
    "name": "ipython",
    "version": 3
   },
   "file_extension": ".py",
   "mimetype": "text/x-python",
   "name": "python",
   "nbconvert_exporter": "python",
   "pygments_lexer": "ipython3",
   "version": "3.7.6"
  }
 },
 "nbformat": 4,
 "nbformat_minor": 2
}
